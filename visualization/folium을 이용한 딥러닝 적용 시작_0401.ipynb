{
 "cells": [
  {
   "cell_type": "code",
   "execution_count": 3,
   "metadata": {},
   "outputs": [],
   "source": [
    "import pandas as pd\n",
    "import folium\n",
    "from keras.models import load_model\n",
    "\n",
    "# 딥러닝 모델 불러오기\n",
    "model = load_model(\"C:\\\\multi_final\\\\deep_learning_code\\\\save_weights\\\\my_model.keras\")\n",
    "\n",
    "# CSV 파일 불러오기\n",
    "df = pd.read_csv('C:/multi_final/data/따릉이대여소정보v2.csv')"
   ]
  },
  {
   "cell_type": "code",
   "execution_count": 6,
   "metadata": {},
   "outputs": [],
   "source": [
    "# 관심 있는 정류소 번호 리스트\n",
    "interested_stations = [1123, 1153, 1158, 1160, 1166, 2701, 2715, 2721, 2728, 3798]\n",
    "\n",
    "# 관심 있는 정류소만 필터링\n",
    "filtered_df = df[df['station_no'].isin(interested_stations)]"
   ]
  },
  {
   "cell_type": "code",
   "execution_count": 7,
   "metadata": {},
   "outputs": [],
   "source": [
    "# 지도 시각화 시작\n",
    "map = folium.Map(location=[37.5665, 126.9780], zoom_start=11)\n",
    "\n",
    "# 필터링된 데이터 포인트들을 지도에 추가\n",
    "for idx, row in filtered_df.iterrows():\n",
    "    folium.Marker([row['stationLatitude'], row['stationLongitude']], \n",
    "                  popup=f'{row[\"stationName\"]}: {row[\"station_no\"]}').add_to(map)\n",
    "\n",
    "# 지도 저장\n",
    "map.save('station_map.html')"
   ]
  },
  {
   "cell_type": "code",
   "execution_count": null,
   "metadata": {},
   "outputs": [],
   "source": []
  }
 ],
 "metadata": {
  "kernelspec": {
   "display_name": "Python 3",
   "language": "python",
   "name": "python3"
  },
  "language_info": {
   "codemirror_mode": {
    "name": "ipython",
    "version": 3
   },
   "file_extension": ".py",
   "mimetype": "text/x-python",
   "name": "python",
   "nbconvert_exporter": "python",
   "pygments_lexer": "ipython3",
   "version": "3.12.2"
  }
 },
 "nbformat": 4,
 "nbformat_minor": 2
}
